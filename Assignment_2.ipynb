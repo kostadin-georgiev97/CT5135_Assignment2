{
 "cells": [
  {
   "attachments": {},
   "cell_type": "markdown",
   "metadata": {},
   "source": [
    "## CT5135 Research Topics in AI\n",
    "\n",
    "## Assignment 2"
   ]
  },
  {
   "attachments": {},
   "cell_type": "markdown",
   "metadata": {},
   "source": [
    "* Student ID(s): 22229358, 22230186, 20230220\n",
    "* Student name(s): KOSTADIN GEORGIEV, YAMINI GIRKAR, SHUBHAM MANGLAM"
   ]
  },
  {
   "attachments": {},
   "cell_type": "markdown",
   "metadata": {},
   "source": [
    "### Imports"
   ]
  },
  {
   "cell_type": "code",
   "execution_count": 17,
   "metadata": {},
   "outputs": [],
   "source": [
    "import numpy as np\n",
    "import pandas as pd\n",
    "import os\n",
    "from PIL import Image\n",
    "import matplotlib.pyplot as plt\n",
    "\n",
    "import tensorflow as tf\n",
    "from tensorflow import keras\n",
    "from keras import layers, models, activations\n",
    "from sklearn.model_selection import train_test_split\n",
    "from keras.utils import to_categorical\n",
    "\n",
    "%matplotlib inline "
   ]
  },
  {
   "attachments": {},
   "cell_type": "markdown",
   "metadata": {},
   "source": [
    "### Transform Data"
   ]
  },
  {
   "attachments": {},
   "cell_type": "markdown",
   "metadata": {},
   "source": [
    "Provided images are of different heights so they should be resized to the same resolution."
   ]
  },
  {
   "attachments": {},
   "cell_type": "markdown",
   "metadata": {},
   "source": [
    "First, create a function which applies callback to each .jpg image in a directory:"
   ]
  },
  {
   "cell_type": "code",
   "execution_count": 2,
   "metadata": {},
   "outputs": [],
   "source": [
    "def walk_directory(dir, callback, label=None):\n",
    "    for dirname, _, filenames in os.walk(dir):\n",
    "        for filename in filenames:\n",
    "            if filename.endswith(\".jpg\"):\n",
    "                id = filename[:-4]\n",
    "                pathname = os.path.join(dirname, filename)\n",
    "                im = Image.open(pathname)\n",
    "                imnp = np.array(im, dtype=float)\n",
    "\n",
    "                if len(imnp.shape) != 3:\n",
    "                    print(\"This is 1 channel, so we omit it\",\n",
    "                          imnp.shape, filename)\n",
    "                    continue\n",
    "\n",
    "                callback(id, imnp, label)"
   ]
  },
  {
   "attachments": {},
   "cell_type": "markdown",
   "metadata": {},
   "source": [
    "Observe the dimensions of each image in the dataset:"
   ]
  },
  {
   "cell_type": "code",
   "execution_count": 3,
   "metadata": {},
   "outputs": [
    {
     "name": "stdout",
     "output_type": "stream",
     "text": [
      "This is 1 channel, so we omit it (683, 1024) 4b9ef3ce2685ee32.jpg\n",
      "This is 1 channel, so we omit it (914, 1024) 5a71db307230880e.jpg\n"
     ]
    },
    {
     "data": {
      "text/html": [
       "<div>\n",
       "<style scoped>\n",
       "    .dataframe tbody tr th:only-of-type {\n",
       "        vertical-align: middle;\n",
       "    }\n",
       "\n",
       "    .dataframe tbody tr th {\n",
       "        vertical-align: top;\n",
       "    }\n",
       "\n",
       "    .dataframe thead th {\n",
       "        text-align: right;\n",
       "    }\n",
       "</style>\n",
       "<table border=\"1\" class=\"dataframe\">\n",
       "  <thead>\n",
       "    <tr style=\"text-align: right;\">\n",
       "      <th></th>\n",
       "      <th>height</th>\n",
       "      <th>width</th>\n",
       "      <th>channels</th>\n",
       "      <th>label</th>\n",
       "    </tr>\n",
       "  </thead>\n",
       "  <tbody>\n",
       "    <tr>\n",
       "      <th>01ad3ff1d94eb557</th>\n",
       "      <td>670</td>\n",
       "      <td>1024</td>\n",
       "      <td>3</td>\n",
       "      <td>alpaca</td>\n",
       "    </tr>\n",
       "    <tr>\n",
       "      <th>0346463867a297f4</th>\n",
       "      <td>768</td>\n",
       "      <td>1024</td>\n",
       "      <td>3</td>\n",
       "      <td>alpaca</td>\n",
       "    </tr>\n",
       "    <tr>\n",
       "      <th>038fae9e70c4c3f1</th>\n",
       "      <td>768</td>\n",
       "      <td>1024</td>\n",
       "      <td>3</td>\n",
       "      <td>alpaca</td>\n",
       "    </tr>\n",
       "    <tr>\n",
       "      <th>053608552d63f724</th>\n",
       "      <td>768</td>\n",
       "      <td>1024</td>\n",
       "      <td>3</td>\n",
       "      <td>alpaca</td>\n",
       "    </tr>\n",
       "    <tr>\n",
       "      <th>053dab62fbb47736</th>\n",
       "      <td>682</td>\n",
       "      <td>1024</td>\n",
       "      <td>3</td>\n",
       "      <td>alpaca</td>\n",
       "    </tr>\n",
       "    <tr>\n",
       "      <th>...</th>\n",
       "      <td>...</td>\n",
       "      <td>...</td>\n",
       "      <td>...</td>\n",
       "      <td>...</td>\n",
       "    </tr>\n",
       "    <tr>\n",
       "      <th>eb4d2e0c0252fdc2</th>\n",
       "      <td>682</td>\n",
       "      <td>1024</td>\n",
       "      <td>3</td>\n",
       "      <td>not_alpaca</td>\n",
       "    </tr>\n",
       "    <tr>\n",
       "      <th>eb4f5968c7866a3e</th>\n",
       "      <td>699</td>\n",
       "      <td>1024</td>\n",
       "      <td>3</td>\n",
       "      <td>not_alpaca</td>\n",
       "    </tr>\n",
       "    <tr>\n",
       "      <th>f4495f8511553631</th>\n",
       "      <td>680</td>\n",
       "      <td>1024</td>\n",
       "      <td>3</td>\n",
       "      <td>not_alpaca</td>\n",
       "    </tr>\n",
       "    <tr>\n",
       "      <th>f8d3c3d8be68c4fd</th>\n",
       "      <td>768</td>\n",
       "      <td>1024</td>\n",
       "      <td>3</td>\n",
       "      <td>not_alpaca</td>\n",
       "    </tr>\n",
       "    <tr>\n",
       "      <th>f8e3dd41b584f645</th>\n",
       "      <td>768</td>\n",
       "      <td>1024</td>\n",
       "      <td>3</td>\n",
       "      <td>not_alpaca</td>\n",
       "    </tr>\n",
       "  </tbody>\n",
       "</table>\n",
       "<p>325 rows × 4 columns</p>\n",
       "</div>"
      ],
      "text/plain": [
       "                  height  width  channels       label\n",
       "01ad3ff1d94eb557     670   1024         3      alpaca\n",
       "0346463867a297f4     768   1024         3      alpaca\n",
       "038fae9e70c4c3f1     768   1024         3      alpaca\n",
       "053608552d63f724     768   1024         3      alpaca\n",
       "053dab62fbb47736     682   1024         3      alpaca\n",
       "...                  ...    ...       ...         ...\n",
       "eb4d2e0c0252fdc2     682   1024         3  not_alpaca\n",
       "eb4f5968c7866a3e     699   1024         3  not_alpaca\n",
       "f4495f8511553631     680   1024         3  not_alpaca\n",
       "f8d3c3d8be68c4fd     768   1024         3  not_alpaca\n",
       "f8e3dd41b584f645     768   1024         3  not_alpaca\n",
       "\n",
       "[325 rows x 4 columns]"
      ]
     },
     "execution_count": 3,
     "metadata": {},
     "output_type": "execute_result"
    }
   ],
   "source": [
    "df = pd.DataFrame(columns=['height', 'width', 'channels', 'label'])\n",
    "\n",
    "def get_img_shape(id, imnp, label):\n",
    "    height, width, channel = imnp.shape\n",
    "    df.loc[id] = [height, width, channel, label]\n",
    "\n",
    "walk_directory('dataset/alpaca', get_img_shape, 'alpaca')\n",
    "walk_directory('dataset/not_alpaca', get_img_shape, 'not_alpaca')\n",
    "\n",
    "df"
   ]
  },
  {
   "cell_type": "code",
   "execution_count": 4,
   "metadata": {},
   "outputs": [
    {
     "name": "stdout",
     "output_type": "stream",
     "text": [
      "Images will be resized to 28 x 28\n"
     ]
    }
   ],
   "source": [
    "IMG_HEIGHT = 28\n",
    "IMG_WIDTH = 28\n",
    "\n",
    "print('Images will be resized to', IMG_HEIGHT, 'x', IMG_WIDTH)"
   ]
  },
  {
   "cell_type": "code",
   "execution_count": 5,
   "metadata": {},
   "outputs": [],
   "source": [
    "def resize_images(label):\n",
    "    source_dir = 'dataset/' + label\n",
    "    target_dir = 'dataset_resized/'+ label\n",
    "    subset = df.loc[df['label'] == label]\n",
    "\n",
    "    for id, image in subset.iterrows():\n",
    "        id = str(id)\n",
    "        filename = id + \".jpg\"\n",
    "        \n",
    "        source_path = os.path.join(source_dir, filename)\n",
    "        target_path = os.path.join(target_dir, filename)\n",
    "        \n",
    "        image = Image.open(source_path)\n",
    "        image = image.resize((IMG_WIDTH, IMG_HEIGHT), Image.NEAREST)\n",
    "        image.save(target_path)"
   ]
  },
  {
   "cell_type": "code",
   "execution_count": 6,
   "metadata": {},
   "outputs": [],
   "source": [
    "resize_images('alpaca')\n",
    "resize_images('not_alpaca')"
   ]
  },
  {
   "attachments": {},
   "cell_type": "markdown",
   "metadata": {},
   "source": [
    "### Load Data"
   ]
  },
  {
   "cell_type": "code",
   "execution_count": 7,
   "metadata": {},
   "outputs": [],
   "source": [
    "def load_images(dir):\n",
    "    img_array = []\n",
    "    \n",
    "    walk_directory(dir, lambda id, imnp, label: img_array.append(imnp))\n",
    "\n",
    "    return np.array(img_array)"
   ]
  },
  {
   "cell_type": "code",
   "execution_count": 8,
   "metadata": {},
   "outputs": [],
   "source": [
    "img_alpaca = load_images('dataset_resized/alpaca')\n",
    "img_not_alpaca = load_images('dataset_resized/not_alpaca')"
   ]
  },
  {
   "cell_type": "code",
   "execution_count": 9,
   "metadata": {},
   "outputs": [
    {
     "name": "stdout",
     "output_type": "stream",
     "text": [
      "alpaca: (142, 28, 28, 3)\n",
      "not_alpaca: (183, 28, 28, 3)\n"
     ]
    }
   ],
   "source": [
    "print('alpaca:', img_alpaca.shape)\n",
    "print('not_alpaca:', img_not_alpaca.shape)"
   ]
  },
  {
   "cell_type": "markdown",
   "metadata": {},
   "source": [
    "### Pre-Process Data"
   ]
  },
  {
   "cell_type": "markdown",
   "metadata": {},
   "source": [
    "Create arrays for all images and for all labels:"
   ]
  },
  {
   "cell_type": "code",
   "execution_count": 10,
   "metadata": {},
   "outputs": [
    {
     "name": "stdout",
     "output_type": "stream",
     "text": [
      "img_array: (325, 28, 28, 3)\n",
      "labels: (325,)\n"
     ]
    }
   ],
   "source": [
    "lbl_alpaca = np.ones(img_alpaca.shape[0], dtype=int)\n",
    "lbl_not_alpaca = np.zeros(img_not_alpaca.shape[0], dtype=int)\n",
    "labels = np.concatenate((lbl_alpaca, lbl_not_alpaca), axis=0)\n",
    "img_array = np.concatenate((img_alpaca, img_not_alpaca), axis=0)\n",
    "print('img_array:', img_array.shape)\n",
    "print('labels:', labels.shape)"
   ]
  },
  {
   "cell_type": "markdown",
   "metadata": {},
   "source": [
    "Scale down data from 0-255 to 0-1:"
   ]
  },
  {
   "cell_type": "code",
   "execution_count": 11,
   "metadata": {},
   "outputs": [],
   "source": [
    "img_array_scaled = img_array / 255"
   ]
  },
  {
   "attachments": {},
   "cell_type": "markdown",
   "metadata": {},
   "source": [
    "Create one-hot encodings for the labels:"
   ]
  },
  {
   "cell_type": "code",
   "execution_count": 12,
   "metadata": {},
   "outputs": [],
   "source": [
    "labels_one_hot_encode = to_categorical(labels)"
   ]
  },
  {
   "cell_type": "markdown",
   "metadata": {},
   "source": [
    "### Create Train/Test Splits"
   ]
  },
  {
   "attachments": {},
   "cell_type": "markdown",
   "metadata": {},
   "source": [
    "Use 80% of the dataset as training data and 20% for testing."
   ]
  },
  {
   "cell_type": "code",
   "execution_count": 13,
   "metadata": {},
   "outputs": [],
   "source": [
    "(X_train, X_test,\n",
    " y_train, y_test) = train_test_split(img_array_scaled, labels_one_hot_encode,\n",
    "                                     train_size = 0.8, random_state = 22229358)"
   ]
  },
  {
   "attachments": {},
   "cell_type": "markdown",
   "metadata": {},
   "source": [
    "### Implement Proposed Layer"
   ]
  },
  {
   "attachments": {},
   "cell_type": "markdown",
   "metadata": {},
   "source": [
    "#### Diagram of the proposed convolution operation\n",
    "\n",
    "H = height of input image\n",
    "\n",
    "W = width of input image\n",
    "\n",
    "C = number of channels of input\n",
    "\n",
    "![Proposed Layer](img/proposed_layer.png)"
   ]
  },
  {
   "cell_type": "code",
   "execution_count": 36,
   "metadata": {},
   "outputs": [],
   "source": [
    "class ProposedLayer(layers.Layer):\n",
    "    def __init__(self, filters, rf=(3, 3), activation=None, **kwargs):\n",
    "        super(ProposedLayer, self).__init__(**kwargs)\n",
    "        self.filters = filters\n",
    "        self.rf = rf\n",
    "        self.activation = activations.get(activation)\n",
    "    \n",
    "    def build(self, input_shape):\n",
    "        _, height, width, channels = input_shape\n",
    "\n",
    "        self.W = self.add_weight(name='kernel',\n",
    "                                 shape=(height, width, channels, self.filters),\n",
    "                                 initializer='glorot_uniform',\n",
    "                                 trainable=True,\n",
    "                                 dtype=tf.float32)\n",
    "        self.B = self.add_weight(name='bias',\n",
    "                                 shape=(self.filters,),\n",
    "                                 initializer='zeros',\n",
    "                                 trainable=True,\n",
    "                                 dtype=tf.float32)\n",
    "        \n",
    "        super(ProposedLayer, self).build(input_shape)\n",
    "\n",
    "    def call(self, inputs):\n",
    "        batch_size, height, width, _ = inputs.shape\n",
    "        batch_size = 1 if batch_size is None else batch_size\n",
    "        z_height = height - self.rf[0] + 1\n",
    "        z_width = width - self.rf[1] + 1\n",
    "        output_list = []\n",
    "\n",
    "        for sample in range(batch_size):\n",
    "            z_sample = []\n",
    "\n",
    "            for filter in range(self.filters):\n",
    "                x = inputs[sample]\n",
    "                w = self.W[:, :, :, filter]\n",
    "                b = self.B[filter]\n",
    "                conv = tf.multiply(x, w) + b\n",
    "                z_filter = []\n",
    "\n",
    "                for i in range(z_height):\n",
    "                    z_rf = []\n",
    "\n",
    "                    for j in range(z_width):\n",
    "                        rf = conv[i:i+self.rf[0], j:j+self.rf[1], :]\n",
    "                        conv_sum = tf.math.reduce_sum(rf)\n",
    "                        z_rf.append(conv_sum)\n",
    "\n",
    "                    z_filter.append(z_rf)\n",
    "\n",
    "                z_sample.append(z_filter)\n",
    "\n",
    "            output_list.append(z_sample)\n",
    "\n",
    "        z = tf.stack(output_list)\n",
    "        \n",
    "        return self.activation(z)\n",
    "    \n",
    "    def compute_output_shape(self, input_shape):\n",
    "        return tuple(input_shape[0],\n",
    "                     input_shape[1] - self.rf[0] + 1,\n",
    "                     input_shape[2] - self.rf[1] + 1,\n",
    "                     self.filters)"
   ]
  },
  {
   "cell_type": "code",
   "execution_count": 15,
   "metadata": {},
   "outputs": [
    {
     "data": {
      "text/plain": [
       "True"
      ]
     },
     "execution_count": 15,
     "metadata": {},
     "output_type": "execute_result"
    }
   ],
   "source": [
    "tf.executing_eagerly()"
   ]
  },
  {
   "cell_type": "markdown",
   "metadata": {},
   "source": [
    "### Create Model"
   ]
  },
  {
   "cell_type": "markdown",
   "metadata": {},
   "source": [
    "#### Model using proposed layer:"
   ]
  },
  {
   "cell_type": "code",
   "execution_count": 37,
   "metadata": {},
   "outputs": [
    {
     "name": "stdout",
     "output_type": "stream",
     "text": [
      "Model: \"model\"\n",
      "_________________________________________________________________\n",
      " Layer (type)                Output Shape              Param #   \n",
      "=================================================================\n",
      " input_3 (InputLayer)        [(None, 28, 28, 3)]       0         \n",
      "                                                                 \n",
      " proposed_layer_22 (Proposed  (1, 16, 26, 26)          37648     \n",
      " Layer)                                                          \n",
      "                                                                 \n",
      " max_pooling2d_21 (MaxPoolin  (1, 8, 13, 26)           0         \n",
      " g2D)                                                            \n",
      "                                                                 \n",
      " proposed_layer_23 (Proposed  (1, 12, 6, 11)           32460     \n",
      " Layer)                                                          \n",
      "                                                                 \n",
      " max_pooling2d_22 (MaxPoolin  (1, 6, 3, 11)            0         \n",
      " g2D)                                                            \n",
      "                                                                 \n",
      " proposed_layer_24 (Proposed  (1, 8, 4, 1)             1592      \n",
      " Layer)                                                          \n",
      "                                                                 \n",
      " max_pooling2d_23 (MaxPoolin  (1, 4, 2, 1)             0         \n",
      " g2D)                                                            \n",
      "                                                                 \n",
      " flatten_7 (Flatten)         (1, 8)                    0         \n",
      "                                                                 \n",
      " dense_14 (Dense)            (1, 512)                  4608      \n",
      "                                                                 \n",
      " dense_15 (Dense)            (1, 2)                    1026      \n",
      "                                                                 \n",
      "=================================================================\n",
      "Total params: 77,334\n",
      "Trainable params: 77,334\n",
      "Non-trainable params: 0\n",
      "_________________________________________________________________\n"
     ]
    }
   ],
   "source": [
    "input_shape = (IMG_HEIGHT, IMG_WIDTH, 3)\n",
    "n_classes = 2\n",
    "\n",
    "# Input\n",
    "inputs = layers.Input(input_shape)\n",
    "\n",
    "# Block 1\n",
    "x0 = ProposedLayer(16, (3, 3), activation='relu')(inputs)\n",
    "x1 = layers.MaxPooling2D((2, 2))(x0)\n",
    "# Block 2\n",
    "x2 = ProposedLayer(12, (3, 3), activation='relu')(x1)\n",
    "x3 = layers.MaxPooling2D((2, 2))(x2)\n",
    "# Block 3\n",
    "x4 = ProposedLayer(8, (3, 3), activation='relu')(x3)\n",
    "x5 = layers.MaxPooling2D((2, 2))(x4)\n",
    "\n",
    "# Flatten feature map - embedding size will become 32944\n",
    "x6 = layers.Flatten()(x5)\n",
    "\n",
    "# Dense layer for classification\n",
    "# Start with units in dense layer = power of 2 that is\n",
    "# closest to (embedding_size / 64)\n",
    "x7 = layers.Dense(512, activation='relu')(x6)\n",
    "# Output\n",
    "outputs = layers.Dense(n_classes, activation='softmax')(x7)\n",
    "\n",
    "proposed_model = keras.Model(inputs, outputs)\n",
    "proposed_model.summary()"
   ]
  },
  {
   "cell_type": "code",
   "execution_count": 63,
   "metadata": {},
   "outputs": [],
   "source": [
    "def init_model(dense_units=512):\n",
    "    # Input layer\n",
    "    inputs = layers.Input((IMG_HEIGHT, IMG_WIDTH, 3))\n",
    "    # Block 1\n",
    "    x0 = ProposedLayer(16, (3, 3), activation='relu')(inputs)\n",
    "    x1 = layers.MaxPooling2D((2, 2))(x0)\n",
    "    # Block 2\n",
    "    x2 = ProposedLayer(12, (3, 3), activation='relu')(x1)\n",
    "    x3 = layers.MaxPooling2D((2, 2))(x2)\n",
    "    # Block 3\n",
    "    x4 = ProposedLayer(8, (3, 3), activation='relu')(x3)\n",
    "    x5 = layers.MaxPooling2D((2, 2))(x4)\n",
    "    # Flatten feature map to produce embedding\n",
    "    x6 = layers.Flatten()(x5)\n",
    "    # Dense layer for classification\n",
    "    x7 = layers.Dense(dense_units, activation='relu')(x6)\n",
    "    # Output layer\n",
    "    outputs = layers.Dense(n_classes, activation='softmax')(x7)\n",
    "\n",
    "    return models.Model(inputs, outputs)\n",
    "\n",
    "def train_model(model: models.Model, X, y,\n",
    "                optimizer='Adam', loss='categorical_crossentropy',\n",
    "                batch_size=1, epochs=1, validation_split = 0.2):\n",
    "    model.compile(optimizer=optimizer, loss=loss)\n",
    "    return model.fit(X, y, batch_size, epochs, validation_split = validation_split)\n",
    "\n",
    "def test_model(model: models.Model, X, y, batch_size=1):\n",
    "    return model.evaluate(X, y, batch_size)\n",
    "\n",
    "def plot_history(history, epochs, step):\n",
    "    plt.figure(1)\n",
    "    plt.plot(history.history['loss'])\n",
    "    plt.plot(history.history['val_loss'])\n",
    "    plt.ylabel('accuracy')\n",
    "    plt.xlabel('epoch')\n",
    "    plt.legend(['training loss', 'validation loss'], loc='upper left')\n",
    "    plt.xlim(0, epochs-1)\n",
    "    plt.xticks(np.arange(0, epochs, step))\n",
    "    plt.ylim(0, 1)\n",
    "    plt.yticks(np.arange(0, 1.1, 0.1))\n",
    "    plt.grid(True)\n",
    "    plt.rcParams['grid.color'] = (0.1, 0.1, 0.1, 0.1)\n",
    "    for pos in ['right', 'top', 'bottom', 'left']:\n",
    "        plt.gca().spines[pos].set_visible(False)\n",
    "    plt.show()"
   ]
  },
  {
   "cell_type": "code",
   "execution_count": 47,
   "metadata": {},
   "outputs": [
    {
     "name": "stdout",
     "output_type": "stream",
     "text": [
      "Epoch 1/5\n",
      "208/208 [==============================] - 398s 448ms/step - loss: 0.7095 - val_loss: 0.6878\n",
      "Epoch 2/5\n",
      "208/208 [==============================] - 24s 114ms/step - loss: 0.6883 - val_loss: 0.6825\n",
      "Epoch 3/5\n",
      "208/208 [==============================] - 26s 124ms/step - loss: 0.6880 - val_loss: 0.6828\n",
      "Epoch 4/5\n",
      "208/208 [==============================] - 25s 121ms/step - loss: 0.6891 - val_loss: 0.6820\n",
      "Epoch 5/5\n",
      "208/208 [==============================] - 26s 125ms/step - loss: 0.6878 - val_loss: 0.6827\n"
     ]
    }
   ],
   "source": [
    "model = init_model(dense_units=512)\n",
    "history = train_model(model, X_train, y_train, batch_size=1, epochs=5)"
   ]
  },
  {
   "cell_type": "code",
   "execution_count": 59,
   "metadata": {},
   "outputs": [
    {
     "data": {
      "image/png": "[encoded data removed]",
      "text/plain": [
       "<Figure size 640x480 with 1 Axes>"
      ]
     },
     "metadata": {},
     "output_type": "display_data"
    }
   ],
   "source": [
    "plot_history(history, 5, 1)"
   ]
  },
  {
   "cell_type": "code",
   "execution_count": 62,
   "metadata": {},
   "outputs": [
    {
     "name": "stdout",
     "output_type": "stream",
     "text": [
      "65/65 [==============================] - 3s 51ms/step - loss: 0.6874\n"
     ]
    },
    {
     "data": {
      "text/plain": [
       "0.6873616576194763"
      ]
     },
     "execution_count": 62,
     "metadata": {},
     "output_type": "execute_result"
    }
   ],
   "source": [
    "test_model(model, X_test, y_test, batch_size=1)"
   ]
  },
  {
   "cell_type": "code",
   "execution_count": 64,
   "metadata": {},
   "outputs": [
    {
     "name": "stdout",
     "output_type": "stream",
     "text": [
      "Epoch 1/10\n",
      "234/234 [==============================] - 402s 427ms/step - loss: 0.7025 - val_loss: 0.6955\n",
      "Epoch 2/10\n",
      "234/234 [==============================] - 29s 125ms/step - loss: 0.6866 - val_loss: 0.7063\n",
      "Epoch 3/10\n",
      "234/234 [==============================] - 30s 128ms/step - loss: 0.6851 - val_loss: 0.7040\n",
      "Epoch 4/10\n",
      "234/234 [==============================] - 29s 124ms/step - loss: 0.6843 - val_loss: 0.7082\n",
      "Epoch 5/10\n",
      "234/234 [==============================] - 29s 126ms/step - loss: 0.6837 - val_loss: 0.6978\n",
      "Epoch 6/10\n",
      "234/234 [==============================] - 33s 139ms/step - loss: 0.6865 - val_loss: 0.6985\n",
      "Epoch 7/10\n",
      "234/234 [==============================] - 29s 124ms/step - loss: 0.6847 - val_loss: 0.7008\n",
      "Epoch 8/10\n",
      "234/234 [==============================] - 30s 127ms/step - loss: 0.6857 - val_loss: 0.7004\n",
      "Epoch 9/10\n",
      "234/234 [==============================] - 28s 118ms/step - loss: 0.6858 - val_loss: 0.7025\n",
      "Epoch 10/10\n",
      "234/234 [==============================] - 27s 117ms/step - loss: 0.6847 - val_loss: 0.7017\n"
     ]
    }
   ],
   "source": [
    "model = init_model(dense_units=512)\n",
    "history = train_model(model, X_train, y_train, batch_size=1, epochs=10, validation_split=0.1)"
   ]
  },
  {
   "cell_type": "code",
   "execution_count": 68,
   "metadata": {},
   "outputs": [
    {
     "data": {
      "image/png": "[encoded data removed]",
      "text/plain": [
       "<Figure size 640x480 with 1 Axes>"
      ]
     },
     "metadata": {},
     "output_type": "display_data"
    }
   ],
   "source": [
    "plot_history(history, 10, 1)"
   ]
  },
  {
   "cell_type": "code",
   "execution_count": 69,
   "metadata": {},
   "outputs": [
    {
     "name": "stdout",
     "output_type": "stream",
     "text": [
      "65/65 [==============================] - 4s 57ms/step - loss: 0.6876\n"
     ]
    },
    {
     "data": {
      "text/plain": [
       "0.6875998377799988"
      ]
     },
     "execution_count": 69,
     "metadata": {},
     "output_type": "execute_result"
    }
   ],
   "source": [
    "test_model(model, X_test, y_test, batch_size=1)"
   ]
  }
 ],
 "metadata": {
  "kernelspec": {
   "display_name": "tf",
   "language": "python",
   "name": "python3"
  },
  "language_info": {
   "codemirror_mode": {
    "name": "ipython",
    "version": 3
   },
   "file_extension": ".py",
   "mimetype": "text/x-python",
   "name": "python",
   "nbconvert_exporter": "python",
   "pygments_lexer": "ipython3",
   "version": "3.9.16"
  },
  "orig_nbformat": 4
 },
 "nbformat": 4,
 "nbformat_minor": 2
}
