{
 "cells": [
  {
   "attachments": {},
   "cell_type": "markdown",
   "metadata": {},
   "source": [
    "## CT5135 Research Topics in AI\n",
    "\n",
    "## Assignment 2"
   ]
  },
  {
   "attachments": {},
   "cell_type": "markdown",
   "metadata": {},
   "source": [
    "* Student ID(s): 22229358, 22230186, 20230220\n",
    "* Student name(s): KOSTADIN GEORGIEV, YAMINI GIRKAR, SHUBHAM MANGLAM"
   ]
  },
  {
   "attachments": {},
   "cell_type": "markdown",
   "metadata": {},
   "source": [
    "### **1. At first page, write your names, roll numbers, and group number, and then in 50-150 words, report who did what in the assignment e.g., who came up with the idea of how to implement it, who implemented it (as a whole or part of it), who debugged it, who gave suggestions (and what suggestion/s), who wrote the report, who did which simulations**"
   ]
  },
  {
   "cell_type": "markdown",
   "metadata": {},
   "source": []
  },
  {
   "attachments": {},
   "cell_type": "markdown",
   "metadata": {},
   "source": [
    "### **2. Explain how your group implemented the layer within existing library (keras, TensorFlow, PyTorch, or other) or from scratch.** [3 Marks]"
   ]
  },
  {
   "attachments": {},
   "cell_type": "markdown",
   "metadata": {},
   "source": [
    "#### Diagram of the proposed convolution operation"
   ]
  },
  {
   "attachments": {},
   "cell_type": "markdown",
   "metadata": {},
   "source": [
    "* H = height of input image\n",
    "* W = width of input image\n",
    "* C = number of channels of input\n",
    "\n",
    "![Proposed Layer](img/proposed_layer.png)"
   ]
  },
  {
   "attachments": {},
   "cell_type": "markdown",
   "metadata": {},
   "source": [
    "### **3. Report the successful implementation of the layer and complete model with a figure in tensorboard.** [10 Marks]"
   ]
  },
  {
   "attachments": {},
   "cell_type": "markdown",
   "metadata": {},
   "source": [
    "### Imports"
   ]
  },
  {
   "cell_type": "code",
   "execution_count": null,
   "metadata": {},
   "outputs": [],
   "source": [
    "import numpy as np\n",
    "import pandas as pd\n",
    "from collections import Counter\n",
    "import os\n",
    "from PIL import Image\n",
    "import matplotlib.pyplot as plt\n",
    "\n",
    "import tensorflow as tf\n",
    "from tensorflow import keras\n",
    "from keras import layers, models, activations, backend as K\n",
    "from keras.utils import to_categorical\n",
    "from sklearn.model_selection import train_test_split\n",
    "from imblearn.over_sampling import SMOTE\n",
    "\n",
    "%matplotlib inline"
   ]
  },
  {
   "attachments": {},
   "cell_type": "markdown",
   "metadata": {},
   "source": [
    "#### Constants and Random Seed"
   ]
  },
  {
   "cell_type": "code",
   "execution_count": null,
   "metadata": {},
   "outputs": [],
   "source": [
    "SEED = 42\n",
    "IMG_HEIGHT = 32\n",
    "IMG_WIDTH = 32\n",
    "\n",
    "tf.keras.utils.set_random_seed(SEED)"
   ]
  },
  {
   "attachments": {},
   "cell_type": "markdown",
   "metadata": {},
   "source": [
    "#### Implementation"
   ]
  },
  {
   "cell_type": "code",
   "execution_count": 434,
   "metadata": {},
   "outputs": [],
   "source": [
    "class ProposedLayer(layers.Layer):\n",
    "    def __init__(self, filters, rf=(3, 3), activation=None, **kwargs):\n",
    "        super(ProposedLayer, self).__init__(**kwargs)\n",
    "        self.filters = filters\n",
    "        self.rf = rf\n",
    "        self.activation = activations.get(activation)\n",
    "    \n",
    "    def build(self, input_shape):\n",
    "        _, height, width, channels = input_shape\n",
    "        w_initializer = tf.keras.initializers.RandomNormal(mean=0.0, stddev=0.1, seed=SEED)\n",
    "\n",
    "        self.W = self.add_weight(name='kernel',\n",
    "                                 shape=(height, width, channels, self.filters),\n",
    "                                 initializer=w_initializer,\n",
    "                                 trainable=True,\n",
    "                                 dtype=tf.float32)\n",
    "        self.B = self.add_weight(name='bias',\n",
    "                                 shape=(self.filters,),\n",
    "                                 initializer='ones',\n",
    "                                 trainable=True,\n",
    "                                 dtype=tf.float32)\n",
    "        \n",
    "        super(ProposedLayer, self).build(input_shape)\n",
    "\n",
    "    def call(self, X):\n",
    "        rfh = self.rf[0] # Height of receptive field\n",
    "        rfw = self.rf[1] # Width of receptive field\n",
    "        zh = X.shape[1] - self.rf[0] + 1 # Height of output\n",
    "        zw = X.shape[2] - self.rf[1] + 1 # Width of output\n",
    "        z = [] # Output\n",
    "\n",
    "        # Apply the custom convolution filter wise\n",
    "        for f in range(self.filters):\n",
    "            w = self.W[:, :, :, f]\n",
    "            b = self.B[f]\n",
    "            conv = tf.multiply(X, w) + b\n",
    "\n",
    "            # Collect patches (e.g., 3x3) from the convolved input.\n",
    "            # All extracted patches are stacked in the last dimension of the output.\n",
    "            patches = tf.image.extract_patches(\n",
    "                images=conv,\n",
    "                sizes=[1, rfh, rfw, 1],\n",
    "                strides=[1, 1, 1, 1],\n",
    "                rates=[1, 1, 1, 1],\n",
    "                padding='VALID'\n",
    "            )\n",
    "\n",
    "            # The number of pixels in each patch would be rfh x rfw x channels (e.g., 3x3x3).\n",
    "            # Convert the patches to a 2D tensor with shape (n_patches, rfh x rfw x channels)\n",
    "            patches_2d = tf.reshape(patches, (-1, rfh * rfw * X.shape[3]))\n",
    "            # Sum over the last axis to ignore 1st dimension which is batch size\n",
    "            patch_sums = tf.math.reduce_sum(patches_2d, axis=-1)\n",
    "            # Change the resulting shape back to fit the expected layer shape.\n",
    "            patch_sums = tf.reshape(patch_sums, shape=(-1, zh, zw))\n",
    "\n",
    "            z.append(patch_sums)\n",
    "        \n",
    "        z = tf.convert_to_tensor(z)\n",
    "        z = tf.transpose(z, perm=[1, 2, 3, 0])\n",
    "        a = self.activation(z) if self.activation is not None else z\n",
    "\n",
    "        return a\n",
    "    \n",
    "    def compute_output_shape(self, input_shape):\n",
    "        return tuple(input_shape[0],\n",
    "                     input_shape[1] - self.rf[0] + 1,\n",
    "                     input_shape[2] - self.rf[1] + 1,\n",
    "                     self.filters)"
   ]
  },
  {
   "attachments": {},
   "cell_type": "markdown",
   "metadata": {},
   "source": [
    "### **4. Load and distribute the data for training, validation, and testing.** [2 Marks]"
   ]
  },
  {
   "attachments": {},
   "cell_type": "markdown",
   "metadata": {},
   "source": [
    "### Load Data"
   ]
  },
  {
   "attachments": {},
   "cell_type": "markdown",
   "metadata": {},
   "source": [
    "Provided images are of different heights so they should be resized to the same resolution. First, create a function which applies callback to each .jpg image in a directory:"
   ]
  },
  {
   "cell_type": "code",
   "execution_count": 143,
   "metadata": {},
   "outputs": [],
   "source": [
    "def walk_directory(dir, callback, label=None):\n",
    "    for dirname, _, filenames in os.walk(dir):\n",
    "        for filename in filenames:\n",
    "            if filename.endswith(\".jpg\"):\n",
    "                id = filename[:-4]\n",
    "                pathname = os.path.join(dirname, filename)\n",
    "                im = Image.open(pathname)\n",
    "                imnp = np.array(im, dtype=float)\n",
    "\n",
    "                if len(imnp.shape) != 3:\n",
    "                    print(\"This is 1 channel, so we omit it\",\n",
    "                          imnp.shape, filename)\n",
    "                    continue\n",
    "\n",
    "                callback(id, imnp, label)"
   ]
  },
  {
   "attachments": {},
   "cell_type": "markdown",
   "metadata": {},
   "source": [
    "Observe the dimensions of each image in the dataset:"
   ]
  },
  {
   "cell_type": "code",
   "execution_count": 438,
   "metadata": {},
   "outputs": [
    {
     "name": "stdout",
     "output_type": "stream",
     "text": [
      "This is 1 channel, so we omit it (683, 1024) 4b9ef3ce2685ee32.jpg\n",
      "This is 1 channel, so we omit it (914, 1024) 5a71db307230880e.jpg\n"
     ]
    },
    {
     "data": {
      "text/html": [
       "<div>\n",
       "<style scoped>\n",
       "    .dataframe tbody tr th:only-of-type {\n",
       "        vertical-align: middle;\n",
       "    }\n",
       "\n",
       "    .dataframe tbody tr th {\n",
       "        vertical-align: top;\n",
       "    }\n",
       "\n",
       "    .dataframe thead th {\n",
       "        text-align: right;\n",
       "    }\n",
       "</style>\n",
       "<table border=\"1\" class=\"dataframe\">\n",
       "  <thead>\n",
       "    <tr style=\"text-align: right;\">\n",
       "      <th></th>\n",
       "      <th>height</th>\n",
       "      <th>width</th>\n",
       "      <th>channels</th>\n",
       "      <th>label</th>\n",
       "    </tr>\n",
       "  </thead>\n",
       "  <tbody>\n",
       "    <tr>\n",
       "      <th>01ad3ff1d94eb557</th>\n",
       "      <td>670</td>\n",
       "      <td>1024</td>\n",
       "      <td>3</td>\n",
       "      <td>alpaca</td>\n",
       "    </tr>\n",
       "    <tr>\n",
       "      <th>0346463867a297f4</th>\n",
       "      <td>768</td>\n",
       "      <td>1024</td>\n",
       "      <td>3</td>\n",
       "      <td>alpaca</td>\n",
       "    </tr>\n",
       "    <tr>\n",
       "      <th>038fae9e70c4c3f1</th>\n",
       "      <td>768</td>\n",
       "      <td>1024</td>\n",
       "      <td>3</td>\n",
       "      <td>alpaca</td>\n",
       "    </tr>\n",
       "    <tr>\n",
       "      <th>053608552d63f724</th>\n",
       "      <td>768</td>\n",
       "      <td>1024</td>\n",
       "      <td>3</td>\n",
       "      <td>alpaca</td>\n",
       "    </tr>\n",
       "    <tr>\n",
       "      <th>053dab62fbb47736</th>\n",
       "      <td>682</td>\n",
       "      <td>1024</td>\n",
       "      <td>3</td>\n",
       "      <td>alpaca</td>\n",
       "    </tr>\n",
       "    <tr>\n",
       "      <th>...</th>\n",
       "      <td>...</td>\n",
       "      <td>...</td>\n",
       "      <td>...</td>\n",
       "      <td>...</td>\n",
       "    </tr>\n",
       "    <tr>\n",
       "      <th>eb4d2e0c0252fdc2</th>\n",
       "      <td>682</td>\n",
       "      <td>1024</td>\n",
       "      <td>3</td>\n",
       "      <td>not_alpaca</td>\n",
       "    </tr>\n",
       "    <tr>\n",
       "      <th>eb4f5968c7866a3e</th>\n",
       "      <td>699</td>\n",
       "      <td>1024</td>\n",
       "      <td>3</td>\n",
       "      <td>not_alpaca</td>\n",
       "    </tr>\n",
       "    <tr>\n",
       "      <th>f4495f8511553631</th>\n",
       "      <td>680</td>\n",
       "      <td>1024</td>\n",
       "      <td>3</td>\n",
       "      <td>not_alpaca</td>\n",
       "    </tr>\n",
       "    <tr>\n",
       "      <th>f8d3c3d8be68c4fd</th>\n",
       "      <td>768</td>\n",
       "      <td>1024</td>\n",
       "      <td>3</td>\n",
       "      <td>not_alpaca</td>\n",
       "    </tr>\n",
       "    <tr>\n",
       "      <th>f8e3dd41b584f645</th>\n",
       "      <td>768</td>\n",
       "      <td>1024</td>\n",
       "      <td>3</td>\n",
       "      <td>not_alpaca</td>\n",
       "    </tr>\n",
       "  </tbody>\n",
       "</table>\n",
       "<p>325 rows × 4 columns</p>\n",
       "</div>"
      ],
      "text/plain": [
       "                  height  width  channels       label\n",
       "01ad3ff1d94eb557     670   1024         3      alpaca\n",
       "0346463867a297f4     768   1024         3      alpaca\n",
       "038fae9e70c4c3f1     768   1024         3      alpaca\n",
       "053608552d63f724     768   1024         3      alpaca\n",
       "053dab62fbb47736     682   1024         3      alpaca\n",
       "...                  ...    ...       ...         ...\n",
       "eb4d2e0c0252fdc2     682   1024         3  not_alpaca\n",
       "eb4f5968c7866a3e     699   1024         3  not_alpaca\n",
       "f4495f8511553631     680   1024         3  not_alpaca\n",
       "f8d3c3d8be68c4fd     768   1024         3  not_alpaca\n",
       "f8e3dd41b584f645     768   1024         3  not_alpaca\n",
       "\n",
       "[325 rows x 4 columns]"
      ]
     },
     "execution_count": 438,
     "metadata": {},
     "output_type": "execute_result"
    }
   ],
   "source": [
    "df = pd.DataFrame(columns=['height', 'width', 'channels', 'label'])\n",
    "\n",
    "def get_img_shape(id, imnp, label):\n",
    "    height, width, channel = imnp.shape\n",
    "    df.loc[id] = [height, width, channel, label]\n",
    "\n",
    "walk_directory('dataset/alpaca', get_img_shape, 'alpaca')\n",
    "walk_directory('dataset/not_alpaca', get_img_shape, 'not_alpaca')\n",
    "\n",
    "df"
   ]
  },
  {
   "attachments": {},
   "cell_type": "markdown",
   "metadata": {},
   "source": [
    "#### Transform Data"
   ]
  },
  {
   "cell_type": "code",
   "execution_count": 442,
   "metadata": {},
   "outputs": [
    {
     "name": "stdout",
     "output_type": "stream",
     "text": [
      "Images are resized to 32 x 32\n"
     ]
    }
   ],
   "source": [
    "def resize_images(label):\n",
    "    source_dir = 'dataset/' + label\n",
    "    target_dir = 'dataset_resized/'+ label\n",
    "    subset = df.loc[df['label'] == label]\n",
    "\n",
    "    for id, image in subset.iterrows():\n",
    "        id = str(id)\n",
    "        filename = id + \".jpg\"\n",
    "        \n",
    "        source_path = os.path.join(source_dir, filename)\n",
    "        target_path = os.path.join(target_dir, filename)\n",
    "        \n",
    "        image = Image.open(source_path)\n",
    "        image = image.resize((IMG_WIDTH, IMG_HEIGHT), Image.NEAREST)\n",
    "        image.save(target_path)\n",
    "\n",
    "resize_images('alpaca')\n",
    "resize_images('not_alpaca')\n",
    "print('Images are resized to', IMG_HEIGHT, 'x', IMG_WIDTH)"
   ]
  },
  {
   "attachments": {},
   "cell_type": "markdown",
   "metadata": {},
   "source": [
    "#### Load Data"
   ]
  },
  {
   "cell_type": "code",
   "execution_count": 443,
   "metadata": {},
   "outputs": [
    {
     "name": "stdout",
     "output_type": "stream",
     "text": [
      "alpaca: (142, 32, 32, 3)\n",
      "not_alpaca: (183, 32, 32, 3)\n"
     ]
    }
   ],
   "source": [
    "def load_images(dir):\n",
    "    img_array = []\n",
    "    \n",
    "    walk_directory(dir, lambda id, imnp, label: img_array.append(imnp))\n",
    "\n",
    "    return np.array(img_array)\n",
    "\n",
    "img_alpaca = load_images('dataset_resized/alpaca')\n",
    "img_not_alpaca = load_images('dataset_resized/not_alpaca')\n",
    "\n",
    "print('alpaca:', img_alpaca.shape)\n",
    "print('not_alpaca:', img_not_alpaca.shape)"
   ]
  },
  {
   "attachments": {},
   "cell_type": "markdown",
   "metadata": {},
   "source": [
    "#### Pre-Process Data"
   ]
  },
  {
   "cell_type": "markdown",
   "metadata": {},
   "source": [
    "Create arrays for all images and for all labels:"
   ]
  },
  {
   "cell_type": "code",
   "execution_count": 444,
   "metadata": {},
   "outputs": [
    {
     "name": "stdout",
     "output_type": "stream",
     "text": [
      "img_array: (325, 32, 32, 3)\n",
      "labels: (325,)\n"
     ]
    }
   ],
   "source": [
    "lbl_alpaca = np.ones(img_alpaca.shape[0], dtype=int)\n",
    "lbl_not_alpaca = np.zeros(img_not_alpaca.shape[0], dtype=int)\n",
    "labels = np.concatenate((lbl_alpaca, lbl_not_alpaca), axis=0)\n",
    "img_array = np.concatenate((img_alpaca, img_not_alpaca), axis=0)\n",
    "\n",
    "# Scale down data from 0-255 to 0-1\n",
    "img_array = img_array / 255\n",
    "\n",
    "print('img_array:', img_array.shape)\n",
    "print('labels:', labels.shape)"
   ]
  },
  {
   "cell_type": "code",
   "execution_count": 445,
   "metadata": {},
   "outputs": [
    {
     "data": {
      "text/plain": [
       "<matplotlib.image.AxesImage at 0x1cc1fcb2550>"
      ]
     },
     "execution_count": 445,
     "metadata": {},
     "output_type": "execute_result"
    },
    {
     "data": {
      "image/png": "[encoded data removed]",
      "text/plain": [
       "<Figure size 640x480 with 1 Axes>"
      ]
     },
     "metadata": {},
     "output_type": "display_data"
    }
   ],
   "source": [
    "plt.imshow(img_array[1])"
   ]
  },
  {
   "attachments": {},
   "cell_type": "markdown",
   "metadata": {},
   "source": [
    "#### Create Train/Test Splits"
   ]
  },
  {
   "attachments": {},
   "cell_type": "markdown",
   "metadata": {},
   "source": [
    "Use 80% of the dataset as training data and 20% for testing."
   ]
  },
  {
   "cell_type": "code",
   "execution_count": 360,
   "metadata": {},
   "outputs": [],
   "source": [
    "(X_train, X_test,\n",
    " y_train, y_test) = train_test_split(img_array, labels, train_size = 0.8,\n",
    "                                     random_state = SEED)"
   ]
  },
  {
   "attachments": {},
   "cell_type": "markdown",
   "metadata": {},
   "source": [
    "#### Oversample Minority Class"
   ]
  },
  {
   "attachments": {},
   "cell_type": "markdown",
   "metadata": {},
   "source": [
    "Use Synthetic Minority Oversampling Technique (SMOTE) to oversample the minority class which is 'alpaca'. It is important to apply this technique only to the training data and NOT to the test data."
   ]
  },
  {
   "cell_type": "code",
   "execution_count": 361,
   "metadata": {},
   "outputs": [
    {
     "name": "stdout",
     "output_type": "stream",
     "text": [
      "(260, 32, 32, 3)\n",
      "(296, 32, 32, 3)\n"
     ]
    }
   ],
   "source": [
    "oversample = SMOTE()\n",
    "X_resampled = np.reshape(X_train, (X_train.shape[0], -1))\n",
    "X_resampled, y_resampled = SMOTE().fit_resample(X_resampled, y_train)\n",
    "X_resampled = np.reshape(X_resampled, (-1, X_train.shape[1], X_train.shape[2], X_train.shape[3]))\n",
    "\n",
    "print(X_train.shape)\n",
    "print(X_resampled.shape)"
   ]
  },
  {
   "attachments": {},
   "cell_type": "markdown",
   "metadata": {},
   "source": [
    "Create one-hot encodings for the labels:"
   ]
  },
  {
   "cell_type": "code",
   "execution_count": 362,
   "metadata": {},
   "outputs": [],
   "source": [
    "y_resampled = to_categorical(y_resampled)\n",
    "y_test = to_categorical(y_test)"
   ]
  },
  {
   "attachments": {},
   "cell_type": "markdown",
   "metadata": {},
   "source": [
    "### **5. Train the model with the dataset provided in this assignment folder and report the training and testing performance against various hyper parameters (e.g. learning rate = 0.1, batch size = 32, epochs = 500,) using stochastic gradient decent.** [5 Marks]"
   ]
  },
  {
   "attachments": {},
   "cell_type": "markdown",
   "metadata": {},
   "source": [
    "Define helper methods for dynamic creation of a model, plotting results and defining an F1-score metric:"
   ]
  },
  {
   "cell_type": "code",
   "execution_count": 446,
   "metadata": {},
   "outputs": [],
   "source": [
    "def create_model(proposed_units=(16, 12, 8), dense_units=(16,)):\n",
    "    # Input layer\n",
    "    inputs = layers.Input((IMG_HEIGHT, IMG_WIDTH, 3), name=\"input\")\n",
    "    x = inputs\n",
    "\n",
    "    # Proposed layer blocks with max pooling\n",
    "    for i, units in enumerate(proposed_units):\n",
    "        name1 = \"proposed_\" + str(i+1)\n",
    "        name2 = \"pooling_\" + str(i+1)\n",
    "        x = ProposedLayer(units, (3, 3), activation='relu', name=name1)(x)\n",
    "        if i < len(proposed_units) - 1:\n",
    "         x = layers.MaxPooling2D((2, 2), name=name2)(x)\n",
    "\n",
    "    # Flatten feature map to produce embedding\n",
    "    x = layers.Flatten(name=\"flatten\")(x)\n",
    "\n",
    "    # Fully-connected layers for classification\n",
    "    for i, units in enumerate(dense_units):\n",
    "        name = \"dense_\" + str(i+1)\n",
    "        x = layers.Dense(units, activation='relu', name=name)(x)\n",
    "\n",
    "    # Output layer with 2 units for the 2 classes\n",
    "    outputs = layers.Dense(2, activation='softmax', name=\"output\")(x)\n",
    "\n",
    "    model = models.Model(inputs, outputs)\n",
    "\n",
    "    return model\n",
    "\n",
    "def recall_m(y_true, y_pred):\n",
    "    true_positives = K.sum(K.round(K.clip(y_true * y_pred, 0, 1)))\n",
    "    possible_positives = K.sum(K.round(K.clip(y_true, 0, 1)))\n",
    "    recall = true_positives / (possible_positives + K.epsilon())\n",
    "    return recall\n",
    "\n",
    "def precision_m(y_true, y_pred):\n",
    "    true_positives = K.sum(K.round(K.clip(y_true * y_pred, 0, 1)))\n",
    "    predicted_positives = K.sum(K.round(K.clip(y_pred, 0, 1)))\n",
    "    precision = true_positives / (predicted_positives + K.epsilon())\n",
    "    return precision\n",
    "\n",
    "def f1_m(y_true, y_pred):\n",
    "    precision = precision_m(y_true, y_pred)\n",
    "    recall = recall_m(y_true, y_pred)\n",
    "    return 2*((precision*recall)/(precision+recall+K.epsilon()))\n",
    "\n",
    "def plot_history(history, epochs, step):\n",
    "    plt.figure(1)\n",
    "    plt.plot(history.history['loss'])\n",
    "    plt.plot(history.history['val_loss'])\n",
    "    plt.ylabel('loss')\n",
    "    plt.xlabel('epoch')\n",
    "    plt.legend(['training loss', 'validation loss'], loc='upper right')\n",
    "    plt.xlim(0, epochs-1)\n",
    "    plt.xticks(np.arange(0, epochs, step))\n",
    "    plt.grid(True)\n",
    "    plt.rcParams['grid.color'] = (0.1, 0.1, 0.1, 0.1)\n",
    "    for pos in ['right', 'top', 'bottom', 'left']:\n",
    "        plt.gca().spines[pos].set_visible(False)\n",
    "    plt.show()"
   ]
  },
  {
   "attachments": {},
   "cell_type": "markdown",
   "metadata": {},
   "source": [
    "#### Baseline network"
   ]
  },
  {
   "cell_type": "code",
   "execution_count": 450,
   "metadata": {},
   "outputs": [
    {
     "name": "stdout",
     "output_type": "stream",
     "text": [
      "Model: \"model_59\"\n",
      "_________________________________________________________________\n",
      " Layer (type)                Output Shape              Param #   \n",
      "=================================================================\n",
      " input (InputLayer)          [(None, 32, 32, 3)]       0         \n",
      "                                                                 \n",
      " proposed_1 (ProposedLayer)  (None, 30, 30, 16)        49168     \n",
      "                                                                 \n",
      " pooling_1 (MaxPooling2D)    (None, 15, 15, 16)        0         \n",
      "                                                                 \n",
      " proposed_2 (ProposedLayer)  (None, 13, 13, 12)        43212     \n",
      "                                                                 \n",
      " pooling_2 (MaxPooling2D)    (None, 6, 6, 12)          0         \n",
      "                                                                 \n",
      " proposed_3 (ProposedLayer)  (None, 4, 4, 8)           3464      \n",
      "                                                                 \n",
      " flatten (Flatten)           (None, 128)               0         \n",
      "                                                                 \n",
      " dense_1 (Dense)             (None, 64)                8256      \n",
      "                                                                 \n",
      " output (Dense)              (None, 2)                 130       \n",
      "                                                                 \n",
      "=================================================================\n",
      "Total params: 104,230\n",
      "Trainable params: 104,230\n",
      "Non-trainable params: 0\n",
      "_________________________________________________________________\n"
     ]
    }
   ],
   "source": [
    "proposed_units = (16, 12, 8)\n",
    "dense_units = (64,)\n",
    "optimizer = keras.optimizers.SGD(learning_rate=0.001)\n",
    "\n",
    "base_model = create_model(proposed_units=proposed_units, dense_units=dense_units)\n",
    "base_model.compile(optimizer=optimizer, loss=\"categorical_crossentropy\", metrics=[f1_m])\n",
    "base_model.summary()"
   ]
  },
  {
   "cell_type": "code",
   "execution_count": 451,
   "metadata": {},
   "outputs": [
    {
     "data": {
      "image/png": "[encoded data removed]",
      "text/plain": [
       "<IPython.core.display.Image object>"
      ]
     },
     "execution_count": 451,
     "metadata": {},
     "output_type": "execute_result"
    }
   ],
   "source": [
    "keras.utils.plot_model(base_model, show_shapes=True, rankdir=\"TB\", show_layer_activations=True)"
   ]
  },
  {
   "attachments": {},
   "cell_type": "markdown",
   "metadata": {},
   "source": [
    "### **6. Report the analysis of the model against changes in network depth and width as well as changing hyper parameters i.e., show how performance increase or decrease by changing learning rate {0.01, 0.001, or other}, batch sizes {8, 16, 50, or others depending on your system/laptop capacity}, epochs {100, 200, 700, 1000 or other depending on the model performance}, optimizers e.g. Adam or other factors. Report all results in a table, even if they are not good. Also show their training and testing performance in the form of a graph.** [7 Marks]"
   ]
  },
  {
   "attachments": {},
   "cell_type": "markdown",
   "metadata": {},
   "source": [
    "This is the best config I have found so far, which results in F1-Score of 0.5588 on the test data:"
   ]
  },
  {
   "cell_type": "code",
   "execution_count": 470,
   "metadata": {},
   "outputs": [
    {
     "name": "stdout",
     "output_type": "stream",
     "text": [
      "Epoch 1/10\n",
      "59/59 [==============================] - 10s 44ms/step - loss: 16.8641 - f1_m: 0.4746 - val_loss: 33.4320 - val_f1_m: 0.2333\n",
      "Epoch 2/10\n",
      "59/59 [==============================] - 2s 29ms/step - loss: 6.2664 - f1_m: 0.5000 - val_loss: 3.5816 - val_f1_m: 0.7667\n",
      "Epoch 3/10\n",
      "59/59 [==============================] - 2s 29ms/step - loss: 9.0954 - f1_m: 0.5000 - val_loss: 4.3958 - val_f1_m: 0.7667\n",
      "Epoch 4/10\n",
      "59/59 [==============================] - 2s 31ms/step - loss: 7.8506 - f1_m: 0.4576 - val_loss: 3.2994 - val_f1_m: 0.7667\n",
      "Epoch 5/10\n",
      "59/59 [==============================] - 2s 32ms/step - loss: 3.1037 - f1_m: 0.5339 - val_loss: 14.8616 - val_f1_m: 0.2333\n",
      "Epoch 6/10\n",
      "59/59 [==============================] - 2s 37ms/step - loss: 4.7187 - f1_m: 0.4831 - val_loss: 1.3604 - val_f1_m: 0.7667\n",
      "Epoch 7/10\n",
      "59/59 [==============================] - 3s 51ms/step - loss: 2.0791 - f1_m: 0.5042 - val_loss: 2.4638 - val_f1_m: 0.2333\n",
      "Epoch 8/10\n",
      "59/59 [==============================] - 2s 38ms/step - loss: 3.0857 - f1_m: 0.5085 - val_loss: 17.4250 - val_f1_m: 0.2333\n",
      "Epoch 9/10\n",
      "59/59 [==============================] - 3s 47ms/step - loss: 3.3219 - f1_m: 0.5466 - val_loss: 1.4041 - val_f1_m: 0.7667\n",
      "Epoch 10/10\n",
      "59/59 [==============================] - 2s 36ms/step - loss: 1.9455 - f1_m: 0.5254 - val_loss: 0.5857 - val_f1_m: 0.8000\n"
     ]
    }
   ],
   "source": [
    "proposed_units = (16, 12, 8)\n",
    "dense_units = (64,)\n",
    "optimizer = keras.optimizers.Adam(learning_rate=0.001)\n",
    "loss = keras.losses.CategoricalCrossentropy()\n",
    "batch_size = 4\n",
    "epochs = 10\n",
    "\n",
    "proposed_model = create_model(proposed_units=proposed_units, dense_units=dense_units)\n",
    "proposed_model.compile(optimizer=optimizer, loss=loss, metrics=[f1_m])\n",
    "proposed_history = proposed_model.fit(X_resampled, y_resampled, batch_size=batch_size, epochs=epochs, validation_split=0.2)"
   ]
  },
  {
   "cell_type": "code",
   "execution_count": 471,
   "metadata": {},
   "outputs": [
    {
     "data": {
      "image/png": "[encoded data removed]",
      "text/plain": [
       "<Figure size 640x480 with 1 Axes>"
      ]
     },
     "metadata": {},
     "output_type": "display_data"
    }
   ],
   "source": [
    "plot_history(proposed_history, epochs, 1)"
   ]
  },
  {
   "cell_type": "code",
   "execution_count": 472,
   "metadata": {},
   "outputs": [
    {
     "name": "stdout",
     "output_type": "stream",
     "text": [
      "17/17 [==============================] - 1s 17ms/step - loss: 0.7045 - f1_m: 0.5588\n",
      "Epochs: 10\n",
      "F1-Score: 0.5588\n"
     ]
    }
   ],
   "source": [
    "result = proposed_model.evaluate(X_test, y_test, batch_size=batch_size)\n",
    "print('Epochs:', epochs)\n",
    "print('F1-Score:', str(round(result[1], 4)))"
   ]
  },
  {
   "attachments": {},
   "cell_type": "markdown",
   "metadata": {},
   "source": [
    "### **7. Report what result you achieved after training a Convolutional Neural Network of same depth** [5 Marks]"
   ]
  },
  {
   "cell_type": "markdown",
   "metadata": {},
   "source": []
  },
  {
   "cell_type": "code",
   "execution_count": 453,
   "metadata": {},
   "outputs": [],
   "source": [
    "def create_conv_model(conv_units=(16, 12, 8), dense_units=(16,)):\n",
    "    # Input layer\n",
    "    inputs = layers.Input((IMG_HEIGHT, IMG_WIDTH, 3), name=\"input\")\n",
    "    x = inputs\n",
    "\n",
    "    # Proposed layer blocks with max pooling\n",
    "    for i, units in enumerate(conv_units):\n",
    "        name1 = \"conv_\" + str(i+1)\n",
    "        name2 = \"pooling_\" + str(i+1)\n",
    "        x = layers.Conv2D(units, (3, 3), activation='relu', name=name1)(x)\n",
    "        if i < len(conv_units) - 1:\n",
    "         x = layers.MaxPooling2D((2, 2), name=name2)(x)\n",
    "\n",
    "    # Flatten feature map to produce embedding\n",
    "    x = layers.Flatten(name=\"flatten\")(x)\n",
    "\n",
    "    # Fully-connected layers for classification\n",
    "    for i, units in enumerate(dense_units):\n",
    "        name = \"dense_\" + str(i+1)\n",
    "        x = layers.Dense(units, activation='relu', name=name)(x)\n",
    "\n",
    "    # Output layer with 2 units for the 2 classes\n",
    "    outputs = layers.Dense(2, activation='softmax', name=\"output\")(x)\n",
    "\n",
    "    model = models.Model(inputs, outputs)\n",
    "\n",
    "    return model"
   ]
  },
  {
   "cell_type": "code",
   "execution_count": 473,
   "metadata": {},
   "outputs": [
    {
     "name": "stdout",
     "output_type": "stream",
     "text": [
      "Epoch 1/10\n",
      "59/59 [==============================] - 1s 9ms/step - loss: 0.6900 - f1_m: 0.5720 - val_loss: 0.6928 - val_f1_m: 0.5333\n",
      "Epoch 2/10\n",
      "59/59 [==============================] - 0s 7ms/step - loss: 0.6837 - f1_m: 0.5636 - val_loss: 0.7305 - val_f1_m: 0.2333\n",
      "Epoch 3/10\n",
      "59/59 [==============================] - 0s 7ms/step - loss: 0.6715 - f1_m: 0.5720 - val_loss: 0.7125 - val_f1_m: 0.2833\n",
      "Epoch 4/10\n",
      "59/59 [==============================] - 0s 6ms/step - loss: 0.6593 - f1_m: 0.6441 - val_loss: 0.6264 - val_f1_m: 0.8000\n",
      "Epoch 5/10\n",
      "59/59 [==============================] - 0s 6ms/step - loss: 0.6210 - f1_m: 0.6822 - val_loss: 0.6242 - val_f1_m: 0.7500\n",
      "Epoch 6/10\n",
      "59/59 [==============================] - 0s 6ms/step - loss: 0.5969 - f1_m: 0.6610 - val_loss: 0.6052 - val_f1_m: 0.6833\n",
      "Epoch 7/10\n",
      "59/59 [==============================] - 0s 6ms/step - loss: 0.5411 - f1_m: 0.7203 - val_loss: 0.5963 - val_f1_m: 0.8167\n",
      "Epoch 8/10\n",
      "59/59 [==============================] - 0s 6ms/step - loss: 0.5227 - f1_m: 0.7500 - val_loss: 0.5225 - val_f1_m: 0.8167\n",
      "Epoch 9/10\n",
      "59/59 [==============================] - 0s 6ms/step - loss: 0.4580 - f1_m: 0.8008 - val_loss: 0.4330 - val_f1_m: 0.8667\n",
      "Epoch 10/10\n",
      "59/59 [==============================] - 0s 6ms/step - loss: 0.4281 - f1_m: 0.7924 - val_loss: 0.5804 - val_f1_m: 0.7500\n"
     ]
    }
   ],
   "source": [
    "conv_units = (16, 12, 8)\n",
    "dense_units = (64,)\n",
    "optimizer = keras.optimizers.Adam(learning_rate=0.001)\n",
    "loss = keras.losses.CategoricalCrossentropy()\n",
    "batch_size = 4\n",
    "epochs = 10\n",
    "\n",
    "conv_model = create_conv_model(conv_units=conv_units, dense_units=dense_units)\n",
    "conv_model.compile(optimizer=optimizer, loss=loss, metrics=[f1_m])\n",
    "conv_history = conv_model.fit(X_resampled, y_resampled, batch_size=batch_size, epochs=epochs, validation_split=0.2)"
   ]
  },
  {
   "cell_type": "code",
   "execution_count": 474,
   "metadata": {},
   "outputs": [
    {
     "data": {
      "image/png": "[encoded data removed]",
      "text/plain": [
       "<Figure size 640x480 with 1 Axes>"
      ]
     },
     "metadata": {},
     "output_type": "display_data"
    }
   ],
   "source": [
    "plot_history(conv_history, epochs, 1)"
   ]
  },
  {
   "cell_type": "code",
   "execution_count": 475,
   "metadata": {},
   "outputs": [
    {
     "name": "stdout",
     "output_type": "stream",
     "text": [
      "17/17 [==============================] - 0s 3ms/step - loss: 0.8754 - f1_m: 0.6029\n",
      "Epochs: 10\n",
      "F1-Score: 0.6029\n"
     ]
    }
   ],
   "source": [
    "result = conv_model.evaluate(X_test, y_test, batch_size=batch_size)\n",
    "print('Epochs:', epochs)\n",
    "print('F1-Score:', str(round(result[1], 4)))"
   ]
  },
  {
   "attachments": {},
   "cell_type": "markdown",
   "metadata": {},
   "source": [
    "conv_units = (16, 12, 8)\n",
    "dense_units = (64,)\n",
    "optimizer = keras.optimizers.Adam(learning_rate=0.001)\n",
    "loss = keras.losses.CategoricalCrossentropy()\n",
    "batch_size = 4\n",
    "epochs = 10\n",
    "| Model | Conv Units | Dense Units | Optimiser | Learning Rate | Batch Size | Epochs | F1-Score |\n",
    "|-------|------------|-------------|-----------|---------------|------------|--------|----------|\n",
    "| Proposed | (16, 12, 8) | (64,) | Adam | 0.001 | 4 | 10 |  **0.5588** |\n",
    "| Conv2D   | (16, 12, 8) | (64,) | Adam | 0.001 | 4 | 10 |  **0.6029** |"
   ]
  },
  {
   "attachments": {},
   "cell_type": "markdown",
   "metadata": {},
   "source": [
    "**TODO** Discuss results"
   ]
  },
  {
   "attachments": {},
   "cell_type": "markdown",
   "metadata": {},
   "source": [
    "### **8. How to change the code to work over 1-Dimensional data?** [2 Marks]"
   ]
  },
  {
   "attachments": {},
   "cell_type": "markdown",
   "metadata": {},
   "source": [
    "Our implementation is dynamic so it allows data with any number of channels including 1D data."
   ]
  },
  {
   "attachments": {},
   "cell_type": "markdown",
   "metadata": {},
   "source": [
    "### **9. How to change the code to work over 3-Dimensional data?** [2 Marks]"
   ]
  },
  {
   "attachments": {},
   "cell_type": "markdown",
   "metadata": {},
   "source": [
    "Our implementation is dynamic so it allows data with any number of channels including 3D data."
   ]
  }
 ],
 "metadata": {
  "kernelspec": {
   "display_name": "tf",
   "language": "python",
   "name": "python3"
  },
  "language_info": {
   "codemirror_mode": {
    "name": "ipython",
    "version": 3
   },
   "file_extension": ".py",
   "mimetype": "text/x-python",
   "name": "python",
   "nbconvert_exporter": "python",
   "pygments_lexer": "ipython3",
   "version": "3.11.0"
  },
  "orig_nbformat": 4
 },
 "nbformat": 4,
 "nbformat_minor": 2
}
